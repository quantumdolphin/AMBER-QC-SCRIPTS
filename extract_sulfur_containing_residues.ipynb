{
  "nbformat": 4,
  "nbformat_minor": 0,
  "metadata": {
    "colab": {
      "name": "extract-sulfur-containing-residues-ipynb",
      "provenance": [],
      "authorship_tag": "ABX9TyPYhAXEEO1dLjJrgAcMOt/v",
      "include_colab_link": true
    },
    "kernelspec": {
      "name": "python3",
      "display_name": "Python 3"
    },
    "language_info": {
      "name": "python"
    }
  },
  "cells": [
    {
      "cell_type": "markdown",
      "metadata": {
        "id": "view-in-github",
        "colab_type": "text"
      },
      "source": [
        "<a href=\"https://colab.research.google.com/github/quantumdolphin/AMBER-QC-SCRIPTS/blob/main/extract_sulfur_containing_residues.ipynb\" target=\"_parent\"><img src=\"https://colab.research.google.com/assets/colab-badge.svg\" alt=\"Open In Colab\"/></a>"
      ]
    },
    {
      "cell_type": "code",
      "metadata": {
        "id": "ePu6zKvzN0J1"
      },
      "source": [
        ""
      ],
      "execution_count": null,
      "outputs": []
    },
    {
      "cell_type": "code",
      "metadata": {
        "id": "Qbj9Fd6yNpZu"
      },
      "source": [
        "import prody as pdy\n",
        "import pandas as pd\n",
        "import numpy as np\n",
        "# results is the list with filenames of pdb to be parsed\n",
        "# write out sulfur containing residues as separate pdbs\n",
        "for f in results:\n",
        "  frag = open( f,\"r\")\n",
        "  f1=str(f)\n",
        "  items = f1.split('_')\n",
        "  f2= items[0]\n",
        "  frag1 = pdy.parsePDBStream(frag)\n",
        "  for count,i in enumerate(frag1):\n",
        "    atomname = i.getName()\n",
        "    if atomname == 'SG':\n",
        "        #print(atomname)\n",
        "        atomindex = i.getIndex()\n",
        "        index =i.getResnum()\n",
        "        #print(index)\n",
        "        string = 'resnum ' + str(index)\n",
        "        filename = str(f2) +'-sulfur-residue-' + str(index) + '-' + str(atomindex)\n",
        "        pdy.writePDB(filename,frag1.select(string) )"
      ],
      "execution_count": null,
      "outputs": []
    },
    {
      "cell_type": "code",
      "metadata": {
        "id": "9DlkVevDNyt6"
      },
      "source": [
        ""
      ],
      "execution_count": null,
      "outputs": []
    }
  ]
}